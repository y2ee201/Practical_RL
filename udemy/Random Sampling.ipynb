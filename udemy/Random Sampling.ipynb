{
 "cells": [
  {
   "cell_type": "code",
   "execution_count": 1,
   "metadata": {
    "collapsed": true
   },
   "outputs": [],
   "source": [
    "import numpy as np\n",
    "import gym"
   ]
  },
  {
   "cell_type": "code",
   "execution_count": 2,
   "metadata": {
    "collapsed": false
   },
   "outputs": [
    {
     "name": "stderr",
     "output_type": "stream",
     "text": [
      "[2017-11-17 20:49:51,693] Making new env: CartPole-v0\n"
     ]
    }
   ],
   "source": [
    "env = gym.make('CartPole-v0')\n",
    "np.random.seed(100)"
   ]
  },
  {
   "cell_type": "code",
   "execution_count": 3,
   "metadata": {
    "collapsed": false
   },
   "outputs": [
    {
     "name": "stdout",
     "output_type": "stream",
     "text": [
      "Random sampling, average steps: 21.84 average reward: 22.84\n"
     ]
    }
   ],
   "source": [
    "steps = []\n",
    "rewards = []\n",
    "for i in range(100):\n",
    "    s = env.reset()\n",
    "    reward_total = 0\n",
    "    for j in range(500):\n",
    "        new_s, reward, done, _ = env.step(int(np.random.randint(2, size=1)))\n",
    "        reward_total = reward_total + reward\n",
    "        s = new_s\n",
    "        if done:\n",
    "            break\n",
    "    steps.append(j)\n",
    "    rewards.append(reward_total)\n",
    "print('Random sampling, average steps: {0} average reward: {1}'.format(np.mean(steps), np.mean(rewards)))"
   ]
  },
  {
   "cell_type": "code",
   "execution_count": 11,
   "metadata": {
    "collapsed": false
   },
   "outputs": [
    {
     "name": "stdout",
     "output_type": "stream",
     "text": [
      "Max rewards:200.0\n",
      "Best Weights: [1 5 8 8]\n"
     ]
    }
   ],
   "source": [
    "w_iterations = 10\n",
    "episodes = 10\n",
    "max_reward = 0\n",
    "best_weights = 0\n",
    "\n",
    "for i in range(w_iterations):\n",
    "    params = np.random.randint(10, size=4)\n",
    "    rewards = []\n",
    "    for j in range(episodes):\n",
    "        s = env.reset()\n",
    "        reward_total = 0\n",
    "        for t in range(500):\n",
    "            a = 1 if s.dot(params) > 0.5 else 0\n",
    "            new_s, reward, done, _ = env.step(a)\n",
    "            reward_total = reward_total + reward\n",
    "            s = new_s\n",
    "            if done:\n",
    "                rewards.append(reward_total)\n",
    "                break\n",
    "    if np.mean(rewards) > max_reward:\n",
    "        max_reward = np.mean(rewards)\n",
    "        best_weights = params\n",
    "print('Max rewards:{0}'.format(max_reward))\n",
    "print('Best Weights:',best_weights)"
   ]
  },
  {
   "cell_type": "code",
   "execution_count": 12,
   "metadata": {
    "collapsed": true
   },
   "outputs": [],
   "source": [
    "s = env.reset()\n",
    "reward_total = 0\n",
    "for t in range(500):\n",
    "    env.render()\n",
    "    a = 1 if s.dot(best_weights) > 0.5 else 0\n",
    "    new_s, reward, done, _ = env.step(a)\n",
    "    reward_total = reward_total + reward\n",
    "    s = new_s\n",
    "    if done:\n",
    "        break"
   ]
  }
 ],
 "metadata": {
  "kernelspec": {
   "display_name": "Python 3",
   "language": "python",
   "name": "python3"
  },
  "language_info": {
   "codemirror_mode": {
    "name": "ipython",
    "version": 3
   },
   "file_extension": ".py",
   "mimetype": "text/x-python",
   "name": "python",
   "nbconvert_exporter": "python",
   "pygments_lexer": "ipython3",
   "version": "3.5.2"
  }
 },
 "nbformat": 4,
 "nbformat_minor": 2
}
