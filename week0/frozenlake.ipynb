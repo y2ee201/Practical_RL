{
 "cells": [
  {
   "cell_type": "markdown",
   "metadata": {},
   "source": [
    "#  FrozenLake\n",
    "Today you are going to learn how to survive walking over the (virtual) frozen lake through discrete optimization.\n",
    "\n",
    "<img src=\"http://vignette2.wikia.nocookie.net/riseoftheguardians/images/4/4c/Jack's_little_sister_on_the_ice.jpg/revision/latest?cb=20141218030206\" alt=\"a random image to attract attention\" style=\"width: 400px;\"/>\n"
   ]
  },
  {
   "cell_type": "code",
   "execution_count": 1,
   "metadata": {
    "collapsed": false
   },
   "outputs": [
    {
     "name": "stderr",
     "output_type": "stream",
     "text": [
      "[2017-08-20 11:53:18,579] Making new env: FrozenLake-v0\n"
     ]
    }
   ],
   "source": [
    "import gym\n",
    "\n",
    "#create a single game instance\n",
    "env = gym.make(\"FrozenLake-v0\")\n",
    "\n",
    "#start new game\n",
    "env.reset();"
   ]
  },
  {
   "cell_type": "code",
   "execution_count": 2,
   "metadata": {
    "collapsed": false
   },
   "outputs": [
    {
     "name": "stdout",
     "output_type": "stream",
     "text": [
      "\n",
      "\u001b[41mS\u001b[0mFFF\n",
      "FHFH\n",
      "FFFH\n",
      "HFFG\n"
     ]
    }
   ],
   "source": [
    "# display the game state\n",
    "env.render()"
   ]
  },
  {
   "cell_type": "markdown",
   "metadata": {},
   "source": [
    "### legend\n",
    "\n",
    "![img](https://cdn-images-1.medium.com/max/800/1*MCjDzR-wfMMkS0rPqXSmKw.png)"
   ]
  },
  {
   "cell_type": "markdown",
   "metadata": {},
   "source": [
    "### Gym interface\n",
    "\n",
    "The three main methods of an environment are\n",
    "* __reset()__ - reset environment to initial state, _return first observation_\n",
    "* __render()__ - show current environment state (a more colorful version :) )\n",
    "* __step(a)__ - commit action __a__ and return (new observation, reward, is done, info)\n",
    " * _new observation_ - an observation right after commiting the action __a__\n",
    " * _reward_ - a number representing your reward for commiting action __a__\n",
    " * _is done_ - True if the MDP has just finished, False if still in progress\n",
    " * _info_ - some auxilary stuff about what just happened. Ignore it for now"
   ]
  },
  {
   "cell_type": "code",
   "execution_count": 3,
   "metadata": {
    "collapsed": false,
    "scrolled": true
   },
   "outputs": [
    {
     "name": "stdout",
     "output_type": "stream",
     "text": [
      "initial observation code: 0\n",
      "printing observation:\n",
      "\n",
      "\u001b[41mS\u001b[0mFFF\n",
      "FHFH\n",
      "FFFH\n",
      "HFFG\n",
      "observations: Discrete(16) n= 16\n",
      "actions: Discrete(4) n= 4\n"
     ]
    }
   ],
   "source": [
    "print(\"initial observation code:\", env.reset())\n",
    "print('printing observation:')\n",
    "env.render()\n",
    "print(\"observations:\", env.observation_space, 'n=', env.observation_space.n)\n",
    "print(\"actions:\", env.action_space, 'n=', env.action_space.n)"
   ]
  },
  {
   "cell_type": "code",
   "execution_count": 4,
   "metadata": {
    "collapsed": false
   },
   "outputs": [
    {
     "name": "stdout",
     "output_type": "stream",
     "text": [
      "taking action 2 (right)\n",
      "new observation code: 0\n",
      "reward: 0.0\n",
      "is game over?: False\n",
      "printing new state:\n",
      "  (Right)\n",
      "\u001b[41mS\u001b[0mFFF\n",
      "FHFH\n",
      "FFFH\n",
      "HFFG\n"
     ]
    }
   ],
   "source": [
    "print(\"taking action 2 (right)\")\n",
    "new_obs, reward, is_done, _ = env.step(2)\n",
    "print(\"new observation code:\", new_obs)\n",
    "print(\"reward:\", reward)\n",
    "print(\"is game over?:\", is_done)\n",
    "print(\"printing new state:\")\n",
    "env.render()"
   ]
  },
  {
   "cell_type": "code",
   "execution_count": 5,
   "metadata": {
    "collapsed": true
   },
   "outputs": [],
   "source": [
    "action_to_i = {\n",
    "    'left':0,\n",
    "    'down':1,\n",
    "    'right':2,\n",
    "    'up':3\n",
    "}"
   ]
  },
  {
   "cell_type": "markdown",
   "metadata": {},
   "source": [
    "### Play with it\n",
    "* Try walking 5 steps without falling to the (H)ole\n",
    " * Bonus quest - get to the (G)oal\n",
    "* Sometimes your actions will not be executed properly due to slipping over ice\n",
    "* If you fall, call __env.reset()__ to restart"
   ]
  },
  {
   "cell_type": "code",
   "execution_count": 6,
   "metadata": {
    "collapsed": false
   },
   "outputs": [
    {
     "name": "stdout",
     "output_type": "stream",
     "text": [
      "  (Up)\n",
      "\u001b[41mS\u001b[0mFFF\n",
      "FHFH\n",
      "FFFH\n",
      "HFFG\n",
      "  (Down)\n",
      "SFFF\n",
      "\u001b[41mF\u001b[0mHFH\n",
      "FFFH\n",
      "HFFG\n",
      "  (Down)\n",
      "SFFF\n",
      "FHFH\n",
      "\u001b[41mF\u001b[0mFFH\n",
      "HFFG\n",
      "  (Right)\n",
      "SFFF\n",
      "FHFH\n",
      "FFFH\n",
      "\u001b[41mH\u001b[0mFFG\n",
      "  (Right)\n",
      "SFFF\n",
      "FHFH\n",
      "FFFH\n",
      "\u001b[41mH\u001b[0mFFG\n"
     ]
    }
   ],
   "source": [
    "env.reset()\n",
    "env.step(action_to_i['up'])\n",
    "env.render()\n",
    "env.step(action_to_i['down'])\n",
    "env.render()\n",
    "env.step(action_to_i['down'])\n",
    "env.render()\n",
    "env.step(action_to_i['right'])\n",
    "env.render()\n",
    "env.step(action_to_i['right'])\n",
    "env.render()"
   ]
  },
  {
   "cell_type": "markdown",
   "metadata": {},
   "source": [
    "### Baseline: random search (2 points)"
   ]
  },
  {
   "cell_type": "markdown",
   "metadata": {},
   "source": [
    "### Policy\n",
    "\n",
    "* The environment has a 4x4 grid of states (16 total), they are indexed from 0 to 15\n",
    "* From each states there are 4 actions (left,down,right,up), indexed from 0 to 3\n",
    "\n",
    "We need to define agent's policy of picking actions given states. Since we have only 16 disttinct states and 4 actions, we can just store the action for each state in an array.\n",
    "\n",
    "This basically means that any array of 16 integers from 0 to 3 makes a policy."
   ]
  },
  {
   "cell_type": "code",
   "execution_count": 7,
   "metadata": {
    "collapsed": true
   },
   "outputs": [],
   "source": [
    "import numpy as np\n",
    "n_states = env.observation_space.n\n",
    "n_actions = env.action_space.n\n",
    "def get_random_policy():\n",
    "    \"\"\"\n",
    "    Build a numpy array representing agent policy.\n",
    "    This array must have one element per each of 16 environment states.\n",
    "    Element must be an integer from 0 to 3, representing action\n",
    "    to take from that state.\n",
    "    \"\"\"\n",
    "    return np.random.randint(n_actions, size=[n_states])"
   ]
  },
  {
   "cell_type": "code",
   "execution_count": 8,
   "metadata": {
    "collapsed": false
   },
   "outputs": [
    {
     "name": "stdout",
     "output_type": "stream",
     "text": [
      "Action frequencies over 10^4 samples: [ 0.25014375  0.25130625  0.2495375   0.2490125 ]\n",
      "Seems fine!\n"
     ]
    }
   ],
   "source": [
    "np.random.seed(1234)\n",
    "policies = [get_random_policy() for i in range(10**4)]\n",
    "assert all([len(p) == n_states for p in policies]), 'policy length should always be 16'\n",
    "assert np.min(policies) == 0, 'minimal action id should be 0'\n",
    "assert np.max(policies) == n_actions-1, 'maximal action id should match n_actions-1'\n",
    "action_probas = np.unique(policies, return_counts=True)[-1] /10**4. /n_states\n",
    "print(\"Action frequencies over 10^4 samples:\",action_probas)\n",
    "assert np.allclose(action_probas, [1. / n_actions] * n_actions, atol=0.05), \"The policies aren't uniformly random (maybe it's just an extremely bad luck)\"\n",
    "print(\"Seems fine!\")"
   ]
  },
  {
   "cell_type": "markdown",
   "metadata": {},
   "source": [
    "### Let's evaluate!\n",
    "* Implement a simple function that runs one game and returns the total reward"
   ]
  },
  {
   "cell_type": "code",
   "execution_count": 9,
   "metadata": {
    "collapsed": false
   },
   "outputs": [],
   "source": [
    "def sample_reward(env, policy, t_max=100):\n",
    "    \"\"\"\n",
    "    Interact with an environment, return sum of all rewards.\n",
    "    If game doesn't end on t_max (e.g. agent walks into a wall), \n",
    "    force end the game and return whatever reward you got so far.\n",
    "    Tip: see signature of env.step(...) method above.\n",
    "    \"\"\"\n",
    "    s = env.reset()\n",
    "    total_reward = 0\n",
    "    step_counter = 0\n",
    "    \n",
    "    for action in policy:\n",
    "        next_state, reward, done, _ = env.step(action)\n",
    "        total_reward = total_reward + reward\n",
    "        step_counter = step_counter + 1\n",
    "        if step_counter==t_max:\n",
    "            break\n",
    "    return total_reward"
   ]
  },
  {
   "cell_type": "code",
   "execution_count": 10,
   "metadata": {
    "collapsed": false
   },
   "outputs": [
    {
     "name": "stdout",
     "output_type": "stream",
     "text": [
      "generating 10^3 sessions...\n",
      "Looks good!\n"
     ]
    }
   ],
   "source": [
    "print(\"generating 10^3 sessions...\")\n",
    "rewards = [sample_reward(env,get_random_policy()) for _ in range(10**3)]\n",
    "assert all([type(r) in (int, float) for r in rewards]), 'sample_reward must return a single number'\n",
    "assert all([0 <= r <= 1 for r in rewards]), 'total rewards should be between 0 and 1 for frozenlake (if solving taxi, delete this line)'\n",
    "print(\"Looks good!\")"
   ]
  },
  {
   "cell_type": "code",
   "execution_count": 11,
   "metadata": {
    "collapsed": true
   },
   "outputs": [],
   "source": [
    "def evaluate(policy, n_times=100):\n",
    "    \"\"\"Run several evaluations and average the score the policy gets.\"\"\"\n",
    "    rewards = [sample_reward(env, policy) for i in range(n_times)]\n",
    "    return float(np.mean(rewards))        "
   ]
  },
  {
   "cell_type": "code",
   "execution_count": 12,
   "metadata": {
    "collapsed": false
   },
   "outputs": [
    {
     "name": "stdout",
     "output_type": "stream",
     "text": [
      "0.02\n"
     ]
    }
   ],
   "source": [
    "print(evaluate(get_random_policy()))"
   ]
  },
  {
   "cell_type": "code",
   "execution_count": 13,
   "metadata": {
    "collapsed": false
   },
   "outputs": [
    {
     "name": "stdout",
     "output_type": "stream",
     "text": [
      "random policy:\n",
      "v ^ v v\n",
      "> H < H\n",
      "< > ^ H\n",
      "H > > G\n"
     ]
    }
   ],
   "source": [
    "def print_policy(policy):\n",
    "    \"\"\"a function that displays a policy in a human-readable way.\"\"\"\n",
    "    lake = \"SFFFFHFHFFFHHFFG\"\n",
    "    assert env.spec.id == \"FrozenLake-v0\", \"this function only works with frozenlake 4x4\"\n",
    "\n",
    "    \n",
    "    # where to move from each tile (we're a bit unsure if this is accurate)\n",
    "    arrows = ['>^v<'[a] for a in policy]\n",
    "    \n",
    "    #draw arrows above S and F only\n",
    "    signs = [arrow if tile in \"SF\" else tile for arrow, tile in zip(arrows, lake)]\n",
    "    \n",
    "    for i in range(0, 16, 4):\n",
    "        print(' '.join(signs[i:i+4]))\n",
    "\n",
    "print(\"random policy:\")\n",
    "print_policy(get_random_policy())"
   ]
  },
  {
   "cell_type": "markdown",
   "metadata": {},
   "source": [
    "### Main loop"
   ]
  },
  {
   "cell_type": "code",
   "execution_count": 14,
   "metadata": {
    "collapsed": false
   },
   "outputs": [
    {
     "name": "stderr",
     "output_type": "stream",
     "text": [
      "\r",
      "  0%|                                                                                        | 0/10000 [00:00<?, ?it/s]"
     ]
    },
    {
     "name": "stdout",
     "output_type": "stream",
     "text": [
      "New best score: 0.01\n",
      "Best policy:\n",
      "v > > v\n",
      "> H < H\n",
      "^ > > H\n",
      "H v < G\n"
     ]
    },
    {
     "name": "stderr",
     "output_type": "stream",
     "text": [
      "\r",
      "  0%|                                                                                | 4/10000 [00:00<04:43, 35.29it/s]"
     ]
    },
    {
     "name": "stdout",
     "output_type": "stream",
     "text": [
      "New best score: 0.02\n",
      "Best policy:\n",
      "^ > < ^\n",
      "v H ^ H\n",
      "^ ^ < H\n",
      "H ^ ^ G\n"
     ]
    },
    {
     "name": "stderr",
     "output_type": "stream",
     "text": [
      "\r",
      "  0%|                                                                                | 8/10000 [00:00<04:46, 34.84it/s]"
     ]
    },
    {
     "name": "stdout",
     "output_type": "stream",
     "text": [
      "New best score: 0.04\n",
      "Best policy:\n",
      "> < < ^\n",
      "< H < H\n",
      "^ > v H\n",
      "H < < G\n"
     ]
    },
    {
     "name": "stderr",
     "output_type": "stream",
     "text": [
      "  1%|▊                                                                             | 111/10000 [00:02<03:24, 48.40it/s]"
     ]
    },
    {
     "name": "stdout",
     "output_type": "stream",
     "text": [
      "New best score: 0.05\n",
      "Best policy:\n",
      "v v v v\n",
      "v H < H\n",
      "^ > v H\n",
      "H < v G\n"
     ]
    },
    {
     "name": "stderr",
     "output_type": "stream",
     "text": [
      "  3%|██▏                                                                           | 288/10000 [00:05<03:18, 48.96it/s]"
     ]
    },
    {
     "name": "stdout",
     "output_type": "stream",
     "text": [
      "New best score: 0.06\n",
      "Best policy:\n",
      "^ v v ^\n",
      "v H ^ H\n",
      "v < ^ H\n",
      "H > ^ G\n"
     ]
    },
    {
     "name": "stderr",
     "output_type": "stream",
     "text": [
      "  8%|██████                                                                        | 785/10000 [00:16<03:00, 51.19it/s]"
     ]
    },
    {
     "name": "stdout",
     "output_type": "stream",
     "text": [
      "New best score: 0.07\n",
      "Best policy:\n",
      "^ > v v\n",
      "v H v H\n",
      "^ v v H\n",
      "H v ^ G\n"
     ]
    },
    {
     "name": "stderr",
     "output_type": "stream",
     "text": [
      " 12%|█████████▌                                                                   | 1246/10000 [00:25<02:51, 51.04it/s]"
     ]
    },
    {
     "name": "stdout",
     "output_type": "stream",
     "text": [
      "New best score: 0.08\n",
      "Best policy:\n",
      "< ^ > ^\n",
      "v H > H\n",
      "v ^ v H\n",
      "H < ^ G\n"
     ]
    },
    {
     "name": "stderr",
     "output_type": "stream",
     "text": [
      " 75%|█████████████████████████████████████████████████████████▉                   | 7521/10000 [02:30<00:51, 47.86it/s]"
     ]
    },
    {
     "name": "stdout",
     "output_type": "stream",
     "text": [
      "New best score: 0.09\n",
      "Best policy:\n",
      "> > ^ ^\n",
      "< H < H\n",
      "^ v v H\n",
      "H ^ v G\n"
     ]
    },
    {
     "name": "stderr",
     "output_type": "stream",
     "text": [
      "100%|████████████████████████████████████████████████████████████████████████████| 10000/10000 [03:21<00:00, 49.70it/s]\n"
     ]
    }
   ],
   "source": [
    "best_policy = None\n",
    "best_score = -float('inf')\n",
    "\n",
    "from tqdm import tqdm\n",
    "for i in tqdm(range(10000)):\n",
    "    policy = get_random_policy()\n",
    "    score = evaluate(policy)\n",
    "    if score > best_score:\n",
    "        best_score = score\n",
    "        best_policy = policy\n",
    "        print(\"New best score:\", score)\n",
    "        print(\"Best policy:\")\n",
    "        print_policy(best_policy)"
   ]
  },
  {
   "cell_type": "markdown",
   "metadata": {},
   "source": [
    "# Part II Genetic algorithm (4 points)\n",
    "\n",
    "The next task is to devise some more effecient way to perform policy search.\n",
    "We'll do that with a bare-bones evolutionary algorithm.\n",
    "[unless you're feeling masochistic and wish to do something entirely different which is bonus points if it works]"
   ]
  },
  {
   "cell_type": "code",
   "execution_count": 50,
   "metadata": {
    "collapsed": false
   },
   "outputs": [],
   "source": [
    "def crossover(policy1, policy2, p=0.5):\n",
    "    \"\"\"\n",
    "    for each state, with probability p take action from policy1, else policy2\n",
    "    \"\"\"\n",
    "    if np.random.random() > 0.5:\n",
    "        offspring = np.concatenate((policy1[0:int(n_states/2)], policy2[int(n_states/2):]))\n",
    "    else:\n",
    "        offspring = np.concatenate((policy2[0:int(n_states/2)], policy1[int(n_states/2):]))\n",
    "    return offspring"
   ]
  },
  {
   "cell_type": "code",
   "execution_count": 51,
   "metadata": {
    "collapsed": false
   },
   "outputs": [
    {
     "name": "stdout",
     "output_type": "stream",
     "text": [
      "[1 0 0 2 2 3 3 2 0 3 3 3 1 2 2 1]\n",
      "[1 0 2 2 1 2 3 3 3 2 2 0 2 1 1 3]\n",
      "[1 0 0 2 2 3 3 2 3 2 2 0 2 1 1 3]\n"
     ]
    }
   ],
   "source": [
    "# roughwork\n",
    "test_policy1 = get_random_policy()\n",
    "test_policy2 = get_random_policy()\n",
    "print(test_policy1)\n",
    "print(test_policy2)\n",
    "print(crossover(test_policy1, test_policy2))"
   ]
  },
  {
   "cell_type": "code",
   "execution_count": 52,
   "metadata": {
    "collapsed": true
   },
   "outputs": [],
   "source": [
    "def mutation(policy, p=0.1):\n",
    "    \"\"\"\n",
    "    for each state, with probability p replace action with random action\n",
    "    Tip: mutation can be written as crossover with random policy\n",
    "    \"\"\"\n",
    "    return crossover(policy, get_random_policy(), 0.1)\n",
    "    "
   ]
  },
  {
   "cell_type": "code",
   "execution_count": 53,
   "metadata": {
    "collapsed": false
   },
   "outputs": [
    {
     "name": "stdout",
     "output_type": "stream",
     "text": [
      "[1 2 0 1 2 3 2 3 1 0 1 3 0 0 1 3]\n",
      "[1 2 0 1 2 3 2 3 3 2 2 3 2 1 2 1]\n"
     ]
    }
   ],
   "source": [
    "test_policy1 = get_random_policy()\n",
    "print(test_policy1)\n",
    "print(mutation(test_policy1))"
   ]
  },
  {
   "cell_type": "code",
   "execution_count": 54,
   "metadata": {
    "collapsed": false
   },
   "outputs": [
    {
     "name": "stdout",
     "output_type": "stream",
     "text": [
      "Seems fine!\n"
     ]
    }
   ],
   "source": [
    "np.random.seed(1234)\n",
    "policies = [crossover(get_random_policy(), get_random_policy()) \n",
    "            for i in range(10**4)]\n",
    "\n",
    "assert all([len(p) == n_states for p in policies]), 'policy length should always be 16'\n",
    "assert np.min(policies) == 0, 'minimal action id should be 0'\n",
    "assert np.max(policies) == n_actions-1, 'maximal action id should be n_actions-1'\n",
    "\n",
    "assert any([np.mean(crossover(np.zeros(n_states), np.ones(n_states))) not in (0, 1)\n",
    "               for _ in range(100)]), \"Make sure your crossover changes each action independently\"\n",
    "print(\"Seems fine!\")"
   ]
  },
  {
   "cell_type": "code",
   "execution_count": 131,
   "metadata": {
    "collapsed": false
   },
   "outputs": [],
   "source": [
    "\n",
    "n_epochs = 100 #how many cycles to make\n",
    "pool_size = 200 #how many policies to maintain\n",
    "n_crossovers = 100 #how many crossovers to make on each step\n",
    "n_mutations = 100 #how many mutations to make on each tick\n"
   ]
  },
  {
   "cell_type": "code",
   "execution_count": 132,
   "metadata": {
    "collapsed": false
   },
   "outputs": [
    {
     "name": "stdout",
     "output_type": "stream",
     "text": [
      "initializing...\n",
      "complete...\n"
     ]
    }
   ],
   "source": [
    "print(\"initializing...\")\n",
    "pool = [get_random_policy() for i in range(pool_size)]\n",
    "pool_scores = [evaluate(policy) for policy in pool]\n",
    "print(\"complete...\")"
   ]
  },
  {
   "cell_type": "code",
   "execution_count": 133,
   "metadata": {
    "collapsed": true
   },
   "outputs": [],
   "source": [
    "assert type(pool) == type(pool_scores) == list\n",
    "assert len(pool) == len(pool_scores) == pool_size\n",
    "assert all([type(score) in (float, int) for score in pool_scores])\n"
   ]
  },
  {
   "cell_type": "code",
   "execution_count": 134,
   "metadata": {
    "collapsed": false
   },
   "outputs": [
    {
     "name": "stdout",
     "output_type": "stream",
     "text": [
      "100\n",
      "100\n"
     ]
    }
   ],
   "source": [
    "# roughwork\n",
    "crossover_index = np.random.choice(len(pool),n_crossovers * 2,replace=True)\n",
    "print(len([crossover(pool[i],pool[k]) for i,k in zip(crossover_index[0::2], crossover_index[1::2])]))\n",
    "mutation_index = np.random.choice(len(pool),n_mutations,replace=True)\n",
    "print(len([mutation(pool[i]) for i in mutation_index]))"
   ]
  },
  {
   "cell_type": "code",
   "execution_count": 135,
   "metadata": {
    "collapsed": false
   },
   "outputs": [
    {
     "name": "stdout",
     "output_type": "stream",
     "text": [
      "Epoch 0:\n",
      "best score: 0.06\n",
      "> < v ^\n",
      "^ H v H\n",
      "^ ^ ^ H\n",
      "H v < G\n",
      "Epoch 1:\n",
      "best score: 0.06\n",
      "^ ^ ^ >\n",
      "> H ^ H\n",
      "^ v ^ H\n",
      "H v ^ G\n",
      "Epoch 2:\n",
      "best score: 0.07\n",
      "^ v ^ ^\n",
      "v H ^ H\n",
      "v v ^ H\n",
      "H > > G\n",
      "Epoch 3:\n",
      "best score: 0.06\n",
      "^ v ^ ^\n",
      "v H ^ H\n",
      "^ ^ ^ H\n",
      "H > > G\n",
      "Epoch 4:\n",
      "best score: 0.08\n",
      "^ ^ ^ >\n",
      "> H ^ H\n",
      "^ v ^ H\n",
      "H v ^ G\n",
      "Epoch 5:\n",
      "best score: 0.07\n",
      "v > ^ ^\n",
      "v H ^ H\n",
      "^ > < H\n",
      "H > > G\n",
      "Epoch 6:\n",
      "best score: 0.07\n",
      "> > > v\n",
      "> H ^ H\n",
      "^ v ^ H\n",
      "H v ^ G\n",
      "Epoch 7:\n",
      "best score: 0.07\n",
      "> ^ > v\n",
      "v H ^ H\n",
      "^ v ^ H\n",
      "H v ^ G\n",
      "Epoch 8:\n",
      "best score: 0.07\n",
      "> v v v\n",
      "v H v H\n",
      "> v ^ H\n",
      "H < ^ G\n",
      "Epoch 9:\n",
      "best score: 0.08\n",
      "< v < <\n",
      "v H v H\n",
      "v > ^ H\n",
      "H < > G\n",
      "Epoch 10:\n",
      "best score: 0.09\n",
      "< > > v\n",
      "v H ^ H\n",
      "^ ^ v H\n",
      "H ^ v G\n",
      "Epoch 11:\n",
      "best score: 0.11\n",
      "> ^ v v\n",
      "^ H v H\n",
      "^ v ^ H\n",
      "H v ^ G\n",
      "Epoch 12:\n",
      "best score: 0.09\n",
      "> ^ > ^\n",
      "> H v H\n",
      "^ v ^ H\n",
      "H v ^ G\n",
      "Epoch 13:\n",
      "best score: 0.1\n",
      "v > ^ ^\n",
      "v H ^ H\n",
      "^ ^ v H\n",
      "H ^ v G\n",
      "Epoch 14:\n",
      "best score: 0.08\n",
      "v > > ^\n",
      "^ H ^ H\n",
      "^ ^ v H\n",
      "H < > G\n",
      "Epoch 15:\n",
      "best score: 0.09\n",
      "v > ^ ^\n",
      "v H ^ H\n",
      "^ v ^ H\n",
      "H v ^ G\n",
      "Epoch 16:\n",
      "best score: 0.08\n",
      "^ ^ ^ v\n",
      "^ H ^ H\n",
      "^ ^ ^ H\n",
      "H ^ < G\n",
      "Epoch 17:\n",
      "best score: 0.08\n",
      "^ ^ ^ v\n",
      "^ H ^ H\n",
      "v < ^ H\n",
      "H ^ v G\n",
      "Epoch 18:\n",
      "best score: 0.1\n",
      "v > ^ ^\n",
      "v H ^ H\n",
      "v > v H\n",
      "H ^ ^ G\n",
      "Epoch 19:\n",
      "best score: 0.11\n",
      "> > < ^\n",
      "^ H v H\n",
      "^ ^ v H\n",
      "H ^ v G\n",
      "Epoch 20:\n",
      "best score: 0.08\n",
      "^ v ^ ^\n",
      "v H ^ H\n",
      "^ ^ v H\n",
      "H < > G\n",
      "Epoch 21:\n",
      "best score: 0.09\n",
      "^ v ^ ^\n",
      "v H ^ H\n",
      "^ ^ ^ H\n",
      "H ^ < G\n",
      "Epoch 22:\n",
      "best score: 0.09\n",
      "v > ^ ^\n",
      "v H ^ H\n",
      "v > ^ H\n",
      "H v ^ G\n",
      "Epoch 23:\n",
      "best score: 0.11\n",
      "v > ^ ^\n",
      "v H ^ H\n",
      "v v ^ H\n",
      "H ^ v G\n",
      "Epoch 24:\n",
      "best score: 0.09\n",
      "^ v ^ ^\n",
      "v H ^ H\n",
      "> < v H\n",
      "H < ^ G\n",
      "Epoch 25:\n",
      "best score: 0.09\n",
      "^ ^ v v\n",
      "v H ^ H\n",
      "^ v ^ H\n",
      "H v ^ G\n",
      "Epoch 26:\n",
      "best score: 0.09\n",
      "^ v ^ ^\n",
      "v H ^ H\n",
      "^ ^ ^ H\n",
      "H v < G\n",
      "Epoch 27:\n",
      "best score: 0.09\n",
      "^ v ^ ^\n",
      "v H ^ H\n",
      "^ ^ ^ H\n",
      "H ^ < G\n",
      "Epoch 28:\n",
      "best score: 0.09\n",
      "v > ^ ^\n",
      "v H ^ H\n",
      "^ ^ v H\n",
      "H < > G\n",
      "Epoch 29:\n",
      "best score: 0.1\n",
      "^ > > ^\n",
      "< H ^ H\n",
      "^ ^ ^ H\n",
      "H ^ < G\n",
      "Epoch 30:\n",
      "best score: 0.1\n",
      "v > ^ ^\n",
      "v H ^ H\n",
      "^ ^ v H\n",
      "H < > G\n",
      "Epoch 31:\n",
      "best score: 0.09\n",
      "v > v ^\n",
      "^ H ^ H\n",
      "v > v H\n",
      "H ^ ^ G\n",
      "Epoch 32:\n",
      "best score: 0.1\n",
      "^ v ^ ^\n",
      "v H ^ H\n",
      "^ ^ v H\n",
      "H < > G\n",
      "Epoch 33:\n",
      "best score: 0.09\n",
      "v > ^ ^\n",
      "v H ^ H\n",
      "v < ^ H\n",
      "H < v G\n",
      "Epoch 34:\n",
      "best score: 0.11\n",
      "v > ^ ^\n",
      "v H ^ H\n",
      "^ v ^ H\n",
      "H v ^ G\n",
      "Epoch 35:\n",
      "best score: 0.1\n",
      "v > ^ ^\n",
      "v H ^ H\n",
      "^ v ^ H\n",
      "H v ^ G\n",
      "Epoch 36:\n",
      "best score: 0.11\n",
      "v > v ^\n",
      "^ H ^ H\n",
      "^ v ^ H\n",
      "H v ^ G\n",
      "Epoch 37:\n",
      "best score: 0.11\n",
      "^ v ^ ^\n",
      "v H ^ H\n",
      "^ ^ ^ H\n",
      "H v ^ G\n",
      "Epoch 38:\n",
      "best score: 0.11\n",
      "> > > ^\n",
      "^ H ^ H\n",
      "^ v ^ H\n",
      "H v ^ G\n",
      "Epoch 39:\n",
      "best score: 0.1\n",
      "v > ^ ^\n",
      "v H ^ H\n",
      "^ v ^ H\n",
      "H v ^ G\n",
      "Epoch 40:\n",
      "best score: 0.11\n",
      "v > ^ ^\n",
      "v H ^ H\n",
      "^ v ^ H\n",
      "H v ^ G\n",
      "Epoch 41:\n",
      "best score: 0.09\n",
      "> > v v\n",
      "^ H ^ H\n",
      "v v ^ H\n",
      "H > < G\n",
      "Epoch 42:\n",
      "best score: 0.1\n",
      "v > ^ ^\n",
      "v H ^ H\n",
      "^ v ^ H\n",
      "H v ^ G\n",
      "Epoch 43:\n",
      "best score: 0.11\n",
      "v > ^ ^\n",
      "v H ^ H\n",
      "^ v ^ H\n",
      "H v ^ G\n",
      "Epoch 44:\n",
      "best score: 0.11\n",
      "v > ^ ^\n",
      "v H ^ H\n",
      "^ ^ ^ H\n",
      "H ^ v G\n",
      "Epoch 45:\n",
      "best score: 0.11\n",
      "> > > ^\n",
      "^ H ^ H\n",
      "^ v ^ H\n",
      "H v ^ G\n",
      "Epoch 46:\n",
      "best score: 0.11\n",
      "^ > ^ ^\n",
      "^ H v H\n",
      "^ v ^ H\n",
      "H v ^ G\n",
      "Epoch 47:\n",
      "best score: 0.13\n",
      "> > > ^\n",
      "^ H ^ H\n",
      "^ v ^ H\n",
      "H v ^ G\n",
      "Epoch 48:\n",
      "best score: 0.12\n",
      "> > v v\n",
      "^ H ^ H\n",
      "^ v ^ H\n",
      "H v ^ G\n",
      "Epoch 49:\n",
      "best score: 0.12\n",
      "> > > ^\n",
      "^ H ^ H\n",
      "^ v ^ H\n",
      "H v ^ G\n",
      "Epoch 50:\n",
      "best score: 0.12\n",
      "> > > ^\n",
      "^ H ^ H\n",
      "^ v ^ H\n",
      "H v ^ G\n",
      "Epoch 51:\n",
      "best score: 0.12\n",
      "v > ^ ^\n",
      "v H ^ H\n",
      "^ ^ v H\n",
      "H < > G\n",
      "Epoch 52:\n",
      "best score: 0.11\n",
      "v > ^ ^\n",
      "v H ^ H\n",
      "^ v ^ H\n",
      "H v ^ G\n",
      "Epoch 53:\n",
      "best score: 0.1\n",
      "v > ^ ^\n",
      "v H ^ H\n",
      "^ v ^ H\n",
      "H v ^ G\n",
      "Epoch 54:\n",
      "best score: 0.11\n",
      "> > > ^\n",
      "^ H ^ H\n",
      "^ v ^ H\n",
      "H v ^ G\n",
      "Epoch 55:\n",
      "best score: 0.13\n",
      "> > > ^\n",
      "^ H ^ H\n",
      "^ ^ v H\n",
      "H ^ > G\n",
      "Epoch 56:\n",
      "best score: 0.13\n",
      "> > > ^\n",
      "^ H ^ H\n",
      "^ v ^ H\n",
      "H v ^ G\n",
      "Epoch 57:\n",
      "best score: 0.12\n",
      "> > > ^\n",
      "^ H ^ H\n",
      "^ v ^ H\n",
      "H v ^ G\n",
      "Epoch 58:\n",
      "best score: 0.12\n",
      "> > > ^\n",
      "^ H ^ H\n",
      "^ v ^ H\n",
      "H v ^ G\n",
      "Epoch 59:\n",
      "best score: 0.13\n",
      "> > > ^\n",
      "^ H ^ H\n",
      "^ v ^ H\n",
      "H v ^ G\n",
      "Epoch 60:\n",
      "best score: 0.11\n",
      "> > > ^\n",
      "^ H ^ H\n",
      "^ v ^ H\n",
      "H v ^ G\n",
      "Epoch 61:\n",
      "best score: 0.12\n",
      "> > > ^\n",
      "^ H ^ H\n",
      "^ ^ v H\n",
      "H < > G\n",
      "Epoch 62:\n",
      "best score: 0.12\n",
      "> > > ^\n",
      "^ H ^ H\n",
      "^ v ^ H\n",
      "H v ^ G\n",
      "Epoch 63:\n",
      "best score: 0.1\n",
      "> > > ^\n",
      "^ H ^ H\n",
      "^ v ^ H\n",
      "H v ^ G\n",
      "Epoch 64:\n",
      "best score: 0.12\n",
      "> > > ^\n",
      "^ H ^ H\n",
      "^ ^ v H\n",
      "H < > G\n",
      "Epoch 65:\n",
      "best score: 0.14\n",
      "> > > ^\n",
      "^ H ^ H\n",
      "^ v ^ H\n",
      "H v ^ G\n",
      "Epoch 66:\n",
      "best score: 0.11\n",
      "> > > ^\n",
      "^ H ^ H\n",
      "^ v ^ H\n",
      "H v ^ G\n",
      "Epoch 67:\n",
      "best score: 0.15\n",
      "> > > ^\n",
      "^ H ^ H\n",
      "^ v ^ H\n",
      "H v ^ G\n",
      "Epoch 68:\n",
      "best score: 0.14\n",
      "> > > ^\n",
      "^ H ^ H\n",
      "^ v ^ H\n",
      "H v ^ G\n",
      "Epoch 69:\n",
      "best score: 0.11\n",
      "> > > ^\n",
      "^ H ^ H\n",
      "^ v ^ H\n",
      "H v ^ G\n",
      "Epoch 70:\n",
      "best score: 0.12\n",
      "> > > ^\n",
      "^ H ^ H\n",
      "^ v ^ H\n",
      "H v ^ G\n",
      "Epoch 71:\n",
      "best score: 0.13\n",
      "> > > ^\n",
      "^ H ^ H\n",
      "^ v ^ H\n",
      "H v ^ G\n",
      "Epoch 72:\n",
      "best score: 0.13\n",
      "> > > ^\n",
      "^ H ^ H\n",
      "^ v ^ H\n",
      "H v ^ G\n",
      "Epoch 73:\n",
      "best score: 0.13\n",
      "> > > ^\n",
      "^ H ^ H\n",
      "^ v ^ H\n",
      "H v ^ G\n",
      "Epoch 74:\n",
      "best score: 0.13\n",
      "> > > ^\n",
      "^ H ^ H\n",
      "^ v ^ H\n",
      "H v ^ G\n",
      "Epoch 75:\n",
      "best score: 0.13\n",
      "> > > ^\n",
      "^ H ^ H\n",
      "^ v ^ H\n",
      "H v ^ G\n",
      "Epoch 76:\n",
      "best score: 0.14\n",
      "> > > ^\n",
      "^ H ^ H\n",
      "^ v ^ H\n",
      "H v ^ G\n",
      "Epoch 77:\n",
      "best score: 0.12\n",
      "> > > ^\n",
      "^ H ^ H\n",
      "^ v ^ H\n",
      "H v ^ G\n",
      "Epoch 78:\n",
      "best score: 0.13\n",
      "> > > ^\n",
      "^ H ^ H\n",
      "^ v ^ H\n",
      "H v ^ G\n",
      "Epoch 79:\n",
      "best score: 0.14\n",
      "> > > ^\n",
      "^ H ^ H\n",
      "^ v ^ H\n",
      "H v ^ G\n",
      "Epoch 80:\n",
      "best score: 0.13\n",
      "> > > ^\n",
      "^ H ^ H\n",
      "^ v ^ H\n",
      "H v ^ G\n",
      "Epoch 81:\n",
      "best score: 0.12\n",
      "> > > ^\n",
      "^ H ^ H\n",
      "^ v ^ H\n",
      "H v ^ G\n",
      "Epoch 82:\n",
      "best score: 0.11\n",
      "> > > ^\n",
      "^ H ^ H\n",
      "^ v ^ H\n",
      "H v ^ G\n",
      "Epoch 83:\n",
      "best score: 0.13\n",
      "> > > ^\n",
      "^ H ^ H\n",
      "^ v ^ H\n",
      "H < > G\n",
      "Epoch 84:\n",
      "best score: 0.15\n",
      "> > > ^\n",
      "^ H ^ H\n",
      "^ v ^ H\n",
      "H v ^ G\n",
      "Epoch 85:\n",
      "best score: 0.14\n",
      "> > > ^\n",
      "^ H ^ H\n",
      "^ v ^ H\n",
      "H v ^ G\n",
      "Epoch 86:\n",
      "best score: 0.13\n",
      "> > > ^\n",
      "^ H ^ H\n",
      "^ v ^ H\n",
      "H v ^ G\n",
      "Epoch 87:\n",
      "best score: 0.12\n",
      "> > > ^\n",
      "^ H ^ H\n",
      "^ v ^ H\n",
      "H v ^ G\n",
      "Epoch 88:\n",
      "best score: 0.12\n",
      "> > > ^\n",
      "^ H ^ H\n",
      "^ v ^ H\n",
      "H v ^ G\n",
      "Epoch 89:\n",
      "best score: 0.11\n",
      "> > > ^\n",
      "^ H ^ H\n",
      "^ v ^ H\n",
      "H v ^ G\n",
      "Epoch 90:\n",
      "best score: 0.14\n",
      "> > > ^\n",
      "^ H ^ H\n",
      "^ v ^ H\n",
      "H v ^ G\n",
      "Epoch 91:\n",
      "best score: 0.13\n",
      "> > > ^\n",
      "^ H ^ H\n",
      "^ v ^ H\n",
      "H v ^ G\n",
      "Epoch 92:\n",
      "best score: 0.12\n",
      "> > > ^\n",
      "^ H ^ H\n",
      "^ v ^ H\n",
      "H v ^ G\n",
      "Epoch 93:\n",
      "best score: 0.13\n",
      "> > > ^\n",
      "^ H ^ H\n",
      "^ v ^ H\n",
      "H v ^ G\n",
      "Epoch 94:\n",
      "best score: 0.11\n",
      "> > > ^\n",
      "^ H ^ H\n",
      "v v ^ H\n",
      "H v > G\n",
      "Epoch 95:\n",
      "best score: 0.13\n",
      "> > > ^\n",
      "^ H ^ H\n",
      "^ v ^ H\n",
      "H v ^ G\n",
      "Epoch 96:\n",
      "best score: 0.12\n",
      "> > > ^\n",
      "^ H ^ H\n",
      "^ v ^ H\n",
      "H v ^ G\n",
      "Epoch 97:\n",
      "best score: 0.15\n",
      "> > > ^\n",
      "^ H ^ H\n",
      "^ v ^ H\n",
      "H v ^ G\n",
      "Epoch 98:\n",
      "best score: 0.13\n",
      "> > > ^\n",
      "^ H ^ H\n",
      "^ v ^ H\n",
      "H v ^ G\n",
      "Epoch 99:\n",
      "best score: 0.15\n",
      "> > > ^\n",
      "^ H ^ H\n",
      "^ ^ v H\n",
      "H ^ v G\n"
     ]
    }
   ],
   "source": [
    "#main loop\n",
    "#improvement visualization\n",
    "epoch_scores = []\n",
    "\n",
    "for epoch in range(n_epochs):\n",
    "    print(\"Epoch %s:\"%epoch)\n",
    "    \n",
    "    # crossover with no priority\n",
    "    # crossover_index = np.random.choice(len(pool),n_crossovers * 2,replace=True)\n",
    "    \n",
    "    # prioritize crossover for higher-scorers\n",
    "    crossover_index = np.random.randint(int(len(pool)/3),len(pool),n_crossovers)\n",
    "    \n",
    "    mutation_index = np.random.choice(len(pool),n_mutations,replace=True)\n",
    "    \n",
    "    crossovered = [crossover(pool[i],pool[k]) for i,k in zip(crossover_index[0::2], crossover_index[1::2])]\n",
    "    mutated = [mutation(pool[i]) for i in mutation_index]\n",
    "    \n",
    "    assert type(crossovered) == type(mutated) == list\n",
    "    \n",
    "    #add new policies to the pool\n",
    "    pool = pool + crossovered + mutated\n",
    "    pool_scores = [evaluate(policy) for policy in pool]\n",
    "    \n",
    "    #select pool_size best policies\n",
    "    selected_indices = np.argsort(pool_scores)[-pool_size:]\n",
    "    pool = [pool[i] for i in selected_indices]\n",
    "    pool_scores = [pool_scores[i] for i in selected_indices]\n",
    "\n",
    "    #print the best policy so far (last in ascending score order)\n",
    "    print(\"best score:\", pool_scores[-1])\n",
    "    epoch_scores.append(pool_scores[-1])\n",
    "    print_policy(pool[-1])"
   ]
  },
  {
   "cell_type": "code",
   "execution_count": 144,
   "metadata": {
    "collapsed": false
   },
   "outputs": [
    {
     "data": {
      "image/png": "[encoded data removed]",
      "text/plain": [
       "<matplotlib.figure.Figure at 0x208616249b0>"
      ]
     },
     "metadata": {},
     "output_type": "display_data"
    }
   ],
   "source": [
    "import matplotlib.pyplot as plt\n",
    "%matplotlib inline\n",
    "\n",
    "plt.plot(epoch_scores, color = 'k')\n",
    "plt.ylabel('Best score')\n",
    "plt.xlabel('Epochs')\n",
    "plt.show()"
   ]
  },
  {
   "cell_type": "markdown",
   "metadata": {},
   "source": [
    "## moar\n",
    "\n",
    "The parameters of the genetic algorithm aren't optimal, try to find something better. (size, crossovers and mutations)\n",
    "\n",
    "Try alternative crossover and mutation strategies\n",
    "* prioritize crossover for higher-scorers?\n",
    "* try to select a more diverse pool, not just best scorers?\n",
    "* Just tune the f*cking probabilities.\n",
    "\n",
    "See which combination works best!"
   ]
  },
  {
   "cell_type": "markdown",
   "metadata": {},
   "source": [
    "# Part III (4 points +)\n",
    "\n",
    "The frozenlake problem above is just too simple: you can beat it even with a random policy search. Go solve something more complicated.\n",
    "\n",
    "Pick __one of the two tasks__:\n",
    "\n",
    "* __FrozenLake8x8-v0__ - frozenlake big brother. Achieve score >0.7\n",
    "* __Taxi-v1__ - essentially a maze where you get score for moving passengers to their destinations. Achieve score >-100)\n",
    "\n",
    "Your homework assignment is beating that score (see tips below).\n",
    "\n",
    "\n",
    "### Some tips:\n",
    "* When solving those envs, please make sure your t_max is large enough to finish game with suboptimal policy. For example, __Taxi-v0 only trains if you let it play for 10k+ ticks/session__. For frozenlake8x8 it's less dire.\n",
    "* Random policy search is worth trying as a sanity check, but in general you should expect the genetic algorithm (or anything you devised in it's place) to fare much better that random.\n",
    "* While _it's okay to adapt the tabs above to your chosen env_, make sure you didn't hard-code any constants there (e.g. 16 states or 4 actions).\n",
    "* `print_policy` function was built for the frozenlake-v0 env so it will break on any other env. You could simply ignore it or rewrite it for your env.\n",
    "* in function `sample_reward`, __make sure t_max steps is enough to solve the environment__ even if agent is sometimes acting suboptimally. To estimate that, run several sessions without time limit and measure their length.\n",
    "\n",
    "### Bonus I (2 points):\n",
    "* Gym envs have a condition for \"beating the game\". E.g. here's the conditions for [Taxi-v1](https://gym.openai.com/envs/Taxi-v1). \n",
    "* If you managed to do that, it's worth uploading your first solution to gym. See `gym.upload(...)` docs. Allbeit it isn't a strong AI (or is it?), uploading your algorithm would be a good start. (and a +point!)\n",
    "* You'll get __+1 point__ for uploading and __+1 more if you beat the game__\n",
    "\n",
    "### Bonus II (4 points):\n",
    "* There are environments with continuous state spaces. In fact, most real world environments have this property. While we will dive into methods designed for that later, right now you already can solve them through binarization.\n",
    " * Gym has a basic infinite-state-space env called [CartPole](https://gym.openai.com/envs/CartPole-v0) - please start from this one. Solving something more challenging is great, but make sure your algorithm beats cartpole first. Also kudos for submitting.\n",
    " * Main idea: if you have something infinite and you want something discrete, you split it into bins. Like what histogram does.\n",
    " * Good choice of discretes is critical!\n",
    " * If the dimensionality is too high, you can try to reduce it (PCA/autoencoders)\n",
    "\n",
    "\n",
    "\n",
    "If you're running on a server/in binder, you may want to run this _at the very beginning of the notebook_ (before first cell imports gym):\n",
    "```\n",
    "#XVFB will be launched if you run on a server\n",
    "import os\n",
    "if type(os.environ.get(\"DISPLAY\")) is not str or len(os.environ.get(\"DISPLAY\"))==0:\n",
    "    !bash ../xvfb start\n",
    "    %env DISPLAY=:1\n",
    "```"
   ]
  },
  {
   "cell_type": "code",
   "execution_count": null,
   "metadata": {
    "collapsed": true
   },
   "outputs": [],
   "source": []
  }
 ],
 "metadata": {
  "kernelspec": {
   "display_name": "Python 3",
   "language": "python",
   "name": "python3"
  },
  "language_info": {
   "codemirror_mode": {
    "name": "ipython",
    "version": 3
   },
   "file_extension": ".py",
   "mimetype": "text/x-python",
   "name": "python",
   "nbconvert_exporter": "python",
   "pygments_lexer": "ipython3",
   "version": "3.5.2"
  }
 },
 "nbformat": 4,
 "nbformat_minor": 0
}
