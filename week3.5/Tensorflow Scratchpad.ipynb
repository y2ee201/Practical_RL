{
 "cells": [
  {
   "cell_type": "code",
   "execution_count": 1,
   "metadata": {
    "collapsed": true
   },
   "outputs": [],
   "source": [
    "import tensorflow as tf\n",
    "import numpy as np"
   ]
  },
  {
   "cell_type": "code",
   "execution_count": 51,
   "metadata": {
    "collapsed": false
   },
   "outputs": [],
   "source": [
    "inp_x = np.array([0,1,2,3,4,5,6,7,8,9,10])\n",
    "inp_y = np.array([0,1,2,3,4,5,6,7,8,9,10])\n",
    "inp_x = np.reshape(inp_x, (-1,1))\n",
    "inp_y = np.reshape(inp_y, (-1,1))"
   ]
  },
  {
   "cell_type": "code",
   "execution_count": 52,
   "metadata": {
    "collapsed": true
   },
   "outputs": [],
   "source": [
    "X = tf.placeholder(tf.float64, shape=(None,1))\n",
    "y = tf.placeholder(tf.float64, shape=(None,1))\n",
    "m = tf.Variable(np.zeros(1))"
   ]
  },
  {
   "cell_type": "code",
   "execution_count": 53,
   "metadata": {
    "collapsed": true
   },
   "outputs": [],
   "source": [
    "pred_y = tf.multiply(m, X)\n",
    "loss = tf.reduce_mean((y - pred_y)**2)\n",
    "optimizer = tf.train.GradientDescentOptimizer(learning_rate=0.01).minimize(loss, var_list=m)"
   ]
  },
  {
   "cell_type": "code",
   "execution_count": 54,
   "metadata": {
    "collapsed": false
   },
   "outputs": [
    {
     "name": "stdout",
     "output_type": "stream",
     "text": [
      "Iteration:1, m=[ 0.69999998]\n",
      "Iteration:2, m=[ 0.90999999]\n",
      "Iteration:3, m=[ 0.973]\n",
      "Iteration:4, m=[ 0.9919]\n",
      "Iteration:5, m=[ 0.99757]\n",
      "Iteration:6, m=[ 0.999271]\n",
      "Iteration:7, m=[ 0.9997813]\n",
      "Iteration:8, m=[ 0.99993439]\n",
      "Iteration:9, m=[ 0.99998032]\n",
      "Iteration:10, m=[ 0.9999941]\n",
      "Iteration:11, m=[ 0.99999823]\n",
      "Iteration:12, m=[ 0.99999947]\n",
      "Iteration:13, m=[ 0.99999984]\n",
      "Iteration:14, m=[ 0.99999995]\n",
      "Iteration:15, m=[ 0.99999999]\n",
      "Iteration:16, m=[ 1.]\n",
      "Iteration:17, m=[ 1.]\n",
      "Iteration:18, m=[ 1.]\n",
      "Iteration:19, m=[ 1.]\n",
      "Iteration:20, m=[ 1.]\n",
      "Iteration:21, m=[ 1.]\n",
      "Iteration:22, m=[ 1.]\n",
      "Iteration:23, m=[ 1.]\n",
      "Iteration:24, m=[ 1.]\n",
      "Iteration:25, m=[ 1.]\n",
      "Iteration:26, m=[ 1.]\n",
      "Iteration:27, m=[ 1.]\n",
      "Iteration:28, m=[ 1.]\n",
      "Iteration:29, m=[ 1.]\n",
      "Iteration:30, m=[ 1.]\n",
      "Iteration:31, m=[ 1.]\n",
      "Iteration:32, m=[ 1.]\n",
      "Iteration:33, m=[ 1.]\n",
      "Iteration:34, m=[ 1.]\n",
      "Iteration:35, m=[ 1.]\n",
      "Iteration:36, m=[ 1.]\n",
      "Iteration:37, m=[ 1.]\n",
      "Iteration:38, m=[ 1.]\n",
      "Iteration:39, m=[ 1.]\n",
      "Iteration:40, m=[ 1.]\n",
      "Iteration:41, m=[ 1.]\n",
      "Iteration:42, m=[ 1.]\n",
      "Iteration:43, m=[ 1.]\n",
      "Iteration:44, m=[ 1.]\n",
      "Iteration:45, m=[ 1.]\n",
      "Iteration:46, m=[ 1.]\n",
      "Iteration:47, m=[ 1.]\n",
      "Iteration:48, m=[ 1.]\n",
      "Iteration:49, m=[ 1.]\n",
      "Iteration:50, m=[ 1.]\n",
      "Iteration:51, m=[ 1.]\n",
      "Iteration:52, m=[ 1.]\n",
      "Iteration:53, m=[ 1.]\n",
      "Iteration:54, m=[ 1.]\n",
      "Iteration:55, m=[ 1.]\n",
      "Iteration:56, m=[ 1.]\n",
      "Iteration:57, m=[ 1.]\n",
      "Iteration:58, m=[ 1.]\n",
      "Iteration:59, m=[ 1.]\n",
      "Iteration:60, m=[ 1.]\n",
      "Iteration:61, m=[ 1.]\n",
      "Iteration:62, m=[ 1.]\n",
      "Iteration:63, m=[ 1.]\n",
      "Iteration:64, m=[ 1.]\n",
      "Iteration:65, m=[ 1.]\n",
      "Iteration:66, m=[ 1.]\n",
      "Iteration:67, m=[ 1.]\n",
      "Iteration:68, m=[ 1.]\n",
      "Iteration:69, m=[ 1.]\n",
      "Iteration:70, m=[ 1.]\n",
      "Iteration:71, m=[ 1.]\n",
      "Iteration:72, m=[ 1.]\n",
      "Iteration:73, m=[ 1.]\n",
      "Iteration:74, m=[ 1.]\n",
      "Iteration:75, m=[ 1.]\n",
      "Iteration:76, m=[ 1.]\n",
      "Iteration:77, m=[ 1.]\n",
      "Iteration:78, m=[ 1.]\n",
      "Iteration:79, m=[ 1.]\n",
      "Iteration:80, m=[ 1.]\n",
      "Iteration:81, m=[ 1.]\n",
      "Iteration:82, m=[ 1.]\n",
      "Iteration:83, m=[ 1.]\n",
      "Iteration:84, m=[ 1.]\n",
      "Iteration:85, m=[ 1.]\n",
      "Iteration:86, m=[ 1.]\n",
      "Iteration:87, m=[ 1.]\n",
      "Iteration:88, m=[ 1.]\n",
      "Iteration:89, m=[ 1.]\n",
      "Iteration:90, m=[ 1.]\n",
      "Iteration:91, m=[ 1.]\n",
      "Iteration:92, m=[ 1.]\n",
      "Iteration:93, m=[ 1.]\n",
      "Iteration:94, m=[ 1.]\n",
      "Iteration:95, m=[ 1.]\n",
      "Iteration:96, m=[ 1.]\n",
      "Iteration:97, m=[ 1.]\n",
      "Iteration:98, m=[ 1.]\n",
      "Iteration:99, m=[ 1.]\n",
      "Iteration:100, m=[ 1.]\n"
     ]
    }
   ],
   "source": [
    "with tf.Session() as s:\n",
    "    s.run(tf.global_variables_initializer())\n",
    "    for i in range(100):\n",
    "        s.run(optimizer, feed_dict={X:inp_x, y:inp_y})\n",
    "        print('Iteration:{0}, m={1}'.format(i + 1, s.run(m)))"
   ]
  },
  {
   "cell_type": "code",
   "execution_count": null,
   "metadata": {
    "collapsed": true
   },
   "outputs": [],
   "source": []
  }
 ],
 "metadata": {
  "kernelspec": {
   "display_name": "Python 3",
   "language": "python",
   "name": "python3"
  },
  "language_info": {
   "codemirror_mode": {
    "name": "ipython",
    "version": 3
   },
   "file_extension": ".py",
   "mimetype": "text/x-python",
   "name": "python",
   "nbconvert_exporter": "python",
   "pygments_lexer": "ipython3",
   "version": "3.5.2"
  }
 },
 "nbformat": 4,
 "nbformat_minor": 2
}
