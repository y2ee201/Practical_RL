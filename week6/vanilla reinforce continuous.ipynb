{
 "cells": [
  {
   "cell_type": "code",
   "execution_count": 1,
   "metadata": {
    "collapsed": true
   },
   "outputs": [],
   "source": [
    "import gym\n",
    "import tensorflow as tf\n",
    "import numpy as np"
   ]
  },
  {
   "cell_type": "code",
   "execution_count": 2,
   "metadata": {
    "collapsed": false
   },
   "outputs": [
    {
     "name": "stderr",
     "output_type": "stream",
     "text": [
      "[2017-11-11 14:06:15,762] Making new env: MountainCarContinuous-v0\n"
     ]
    },
    {
     "name": "stdout",
     "output_type": "stream",
     "text": [
      "[ 0.6   0.07]\n",
      "[-1.2  -0.07]\n",
      "[ 1.]\n",
      "[-1.]\n",
      "1\n",
      "2\n"
     ]
    }
   ],
   "source": [
    "env = gym.make('MountainCarContinuous-v0')\n",
    "print(env.observation_space.high)\n",
    "print(env.observation_space.low)\n",
    "print(env.action_space.high)\n",
    "print(env.action_space.low)\n",
    "n_actions = env.action_space.shape[0]\n",
    "n_states = env.observation_space.shape[0]\n",
    "print(n_actions)\n",
    "print(n_states)"
   ]
  },
  {
   "cell_type": "code",
   "execution_count": 3,
   "metadata": {
    "collapsed": true
   },
   "outputs": [],
   "source": [
    "n_hidden = 32\n",
    "learning_rate = 0.01\n",
    "gamma = 0.99\n",
    "episodes = 500\n",
    "t_max = 20000\n",
    "np.random.seed(10)\n",
    "tf.set_random_seed(10)"
   ]
  },
  {
   "cell_type": "code",
   "execution_count": 4,
   "metadata": {
    "collapsed": false
   },
   "outputs": [],
   "source": [
    "states = tf.placeholder(tf.float32, shape=[None, n_states], name='states')\n",
    "actions = tf.placeholder(tf.float32, name='actions')\n",
    "rewards = tf.placeholder(tf.float32, name='rewards')"
   ]
  },
  {
   "cell_type": "code",
   "execution_count": 5,
   "metadata": {
    "collapsed": true
   },
   "outputs": [],
   "source": [
    "w_hid1 = tf.Variable(tf.random_normal(dtype=tf.float32, shape=[n_states, n_hidden]), name='whid1')\n",
    "w_bias1 = tf.Variable(tf.random_normal(dtype=tf.float32, shape=[n_hidden]), name='wbias1')\n",
    "out1 = tf.add(tf.matmul(states, w_hid1),w_bias1)\n",
    "w_hid2 = tf.Variable(tf.random_normal(dtype=tf.float32, shape=[n_hidden, n_actions]), name='whid2')\n",
    "w_bias2 = tf.Variable(tf.random_normal(dtype=tf.float32, shape=[n_actions]), name='wbias2')\n",
    "out = tf.add(tf.matmul(out1, w_hid2), w_bias2)\n",
    "\n",
    "logits = tf.nn.tanh(out)"
   ]
  },
  {
   "cell_type": "code",
   "execution_count": 6,
   "metadata": {
    "collapsed": false
   },
   "outputs": [],
   "source": [
    "loss = -1 * tf.reduce_mean(tf.log(logits) * rewards)\n",
    "\n",
    "update = tf.train.AdamOptimizer(learning_rate).minimize(loss) "
   ]
  },
  {
   "cell_type": "code",
   "execution_count": 7,
   "metadata": {
    "collapsed": false
   },
   "outputs": [
    {
     "name": "stdout",
     "output_type": "stream",
     "text": [
      "[-0.6612174  -0.11133761  0.43541745  0.95092512  1.15395888 -1.76774644]\n"
     ]
    }
   ],
   "source": [
    "def get_cumulative_rewards(rewards, #rewards at each step\n",
    "                           gamma = 0.99 #discount for reward\n",
    "                           ):\n",
    "    discounted_ep_rs = np.zeros_like(rewards)\n",
    "    running_add = 0\n",
    "    for t in reversed(range(0, len(rewards))):\n",
    "        running_add = running_add * gamma + rewards[t]\n",
    "        discounted_ep_rs[t] = running_add\n",
    "\n",
    "        # normalize episode rewards\n",
    "    discounted_ep_rs -= np.mean(discounted_ep_rs)\n",
    "    discounted_ep_rs /= np.std(discounted_ep_rs)\n",
    "    return discounted_ep_rs\n",
    "    \n",
    "test_rew = [1.0, 2.0, 3.0, 4.0, 5.0, -1.0] \n",
    "print(get_cumulative_rewards(test_rew, 0.1))"
   ]
  },
  {
   "cell_type": "code",
   "execution_count": 8,
   "metadata": {
    "collapsed": false
   },
   "outputs": [
    {
     "data": {
      "text/plain": [
       "'def get_cumulative_rewards(rewards, #rewards at each step\\n                           gamma = 0.99 #discount for reward\\n                           ):\\n    \"\"\"\\n    take a list of immediate rewards r(s,a) for the whole session \\n    compute cumulative rewards R(s,a) (a.k.a. G(s,a) in Sutton \\'16)\\n    R_t = r_t + gamma*r_{t+1} + gamma^2*r_{t+2} + ...\\n    \\n    The simple way to compute cumulative rewards is to iterate from last to first time tick\\n    and compute R_t = r_t + gamma*R_{t+1} recurrently\\n    \\n    You must return an array/list of cumulative rewards with as many elements as in the initial rewards.\\n    \"\"\"\\n    final = []\\n    for i in range(len(rewards)):\\n        temp = rewards[i]\\n        for j in range(i+1, len(rewards)):\\n            temp = temp + rewards[j] * (gamma ** (j - i))\\n        final.append(temp)\\n    final -= np.mean(final)\\n    final /= np.std(final)\\n    return final\\n    \\ntest_rew = [1.0, 2.0, 3.0] \\nprint(get_cumulative_rewards(test_rew, 0.1))'"
      ]
     },
     "execution_count": 8,
     "metadata": {},
     "output_type": "execute_result"
    }
   ],
   "source": [
    "'''def get_cumulative_rewards(rewards, #rewards at each step\n",
    "                           gamma = 0.99 #discount for reward\n",
    "                           ):\n",
    "    \"\"\"\n",
    "    take a list of immediate rewards r(s,a) for the whole session \n",
    "    compute cumulative rewards R(s,a) (a.k.a. G(s,a) in Sutton '16)\n",
    "    R_t = r_t + gamma*r_{t+1} + gamma^2*r_{t+2} + ...\n",
    "    \n",
    "    The simple way to compute cumulative rewards is to iterate from last to first time tick\n",
    "    and compute R_t = r_t + gamma*R_{t+1} recurrently\n",
    "    \n",
    "    You must return an array/list of cumulative rewards with as many elements as in the initial rewards.\n",
    "    \"\"\"\n",
    "    final = []\n",
    "    for i in range(len(rewards)):\n",
    "        temp = rewards[i]\n",
    "        for j in range(i+1, len(rewards)):\n",
    "            temp = temp + rewards[j] * (gamma ** (j - i))\n",
    "        final.append(temp)\n",
    "    final -= np.mean(final)\n",
    "    final /= np.std(final)\n",
    "    return final\n",
    "    \n",
    "test_rew = [1.0, 2.0, 3.0] \n",
    "print(get_cumulative_rewards(test_rew, 0.1))'''"
   ]
  },
  {
   "cell_type": "code",
   "execution_count": 9,
   "metadata": {
    "collapsed": true
   },
   "outputs": [],
   "source": [
    "def choose_action(state):\n",
    "    action = logits.eval(feed_dict={states: state})[0]\n",
    "    return action"
   ]
  },
  {
   "cell_type": "code",
   "execution_count": 10,
   "metadata": {
    "collapsed": false
   },
   "outputs": [
    {
     "name": "stdout",
     "output_type": "stream",
     "text": [
      "episode:0 reward:62.34697280221389\n",
      "episode:1 reward:-39.212600842080086\n",
      "episode:2 reward:72.81112108814195\n",
      "episode:3 reward:72.04016223950536\n",
      "episode:4 reward:69.75835575186747\n",
      "episode:5 reward:-38.15397482140492\n",
      "episode:6 reward:-38.028579581880464\n",
      "episode:7 reward:75.79780565894583\n",
      "win!!!\n"
     ]
    }
   ],
   "source": [
    "sess = tf.InteractiveSession()\n",
    "# tf.initialize_all_variables()\n",
    "sess.run(tf.global_variables_initializer())\n",
    "\n",
    "reward_list = []\n",
    "\n",
    "for i in range(episodes):\n",
    "    s = env.reset()\n",
    "    s_, a_, r_ = [], [], []\n",
    "    for t in range(t_max):\n",
    "        s = np.reshape(s, (-1, n_states))\n",
    "        a = choose_action(s)\n",
    "        new_s, r, done, _ = env.step(a)\n",
    "        s_.append(s)\n",
    "        a_.append(a)\n",
    "        r_.append(r)\n",
    "        s = new_s\n",
    "        if done:\n",
    "            r_cumu = get_cumulative_rewards(r_)\n",
    "            s_new = np.reshape(s_, (-1, n_states))\n",
    "            update.run({states:s_new, actions:a_, rewards:r_cumu})\n",
    "            print('episode:{0} reward:{1}'.format(i, sum(r_)))\n",
    "            reward_list.append(sum(r_))\n",
    "            break\n",
    "    if sum(r_)>75:\n",
    "        print('win!!!')\n",
    "        break"
   ]
  },
  {
   "cell_type": "code",
   "execution_count": 11,
   "metadata": {
    "collapsed": false
   },
   "outputs": [
    {
     "data": {
      "image/png": "[encoded data removed]",
      "text/plain": [
       "<matplotlib.figure.Figure at 0x2512afb1e48>"
      ]
     },
     "metadata": {},
     "output_type": "display_data"
    }
   ],
   "source": [
    "import matplotlib.pyplot as plt\n",
    "%matplotlib inline\n",
    "\n",
    "plt.plot(reward_list)\n",
    "plt.show()"
   ]
  },
  {
   "cell_type": "code",
   "execution_count": 13,
   "metadata": {
    "collapsed": false
   },
   "outputs": [
    {
     "name": "stdout",
     "output_type": "stream",
     "text": [
      "68.735227248923\n"
     ]
    }
   ],
   "source": [
    "s = env.reset()\n",
    "r_test = 0\n",
    "for t in range(t_max):\n",
    "    env.render()\n",
    "    s = np.reshape(s, (-1, n_states))\n",
    "    a = choose_action(s)\n",
    "    new_s, r, done, _ = env.step(a)\n",
    "    s = new_s\n",
    "    r_test = r + r_test\n",
    "    if done:\n",
    "        break\n",
    "print(r_test)"
   ]
  },
  {
   "cell_type": "code",
   "execution_count": null,
   "metadata": {
    "collapsed": true
   },
   "outputs": [],
   "source": []
  }
 ],
 "metadata": {
  "kernelspec": {
   "display_name": "Python 3",
   "language": "python",
   "name": "python3"
  },
  "language_info": {
   "codemirror_mode": {
    "name": "ipython",
    "version": 3
   },
   "file_extension": ".py",
   "mimetype": "text/x-python",
   "name": "python",
   "nbconvert_exporter": "python",
   "pygments_lexer": "ipython3",
   "version": "3.5.2"
  }
 },
 "nbformat": 4,
 "nbformat_minor": 2
}
